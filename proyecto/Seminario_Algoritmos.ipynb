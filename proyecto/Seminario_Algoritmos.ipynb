{
  "cells": [
    {
      "cell_type": "markdown",
      "metadata": {
        "id": "hVbXYX-RfPWh"
      },
      "source": [
        "# Algoritmos de optimización - Seminario<br>\n",
        "Nombre y Apellidos:   Alejandro Napoleon Thoux Duran<br>\n",
        "Url: https://github.com/catilo/algoritmos_optimizacion/blob/main/proyecto/Seminario_Algoritmos.ipynb<br>\n",
        "Problema:\n",
        "\n",
        "Combinar cifras y operaciones\n",
        "\n",
        "Descripción del problema:\n",
        "\n",
        "> • El problema consiste en analizar el siguiente problema y diseñar un algoritmo que lo resuelva. \n",
        "\n",
        ">• Disponemos de las 9 cifras del 1 al 9 (excluimos el cero) y de los 4 signos básicos de las operaciones fundamentales: suma(+), resta(-), multiplicación(*) y división(/)\n",
        "\n",
        ">• Debemos combinarlos alternativamente sin repetir ninguno de ellos para obtener una cantidad dada. \n",
        "\n",
        "Un ejemplo sería para obtener el 4: 4+2-6/3*1 = 4\n",
        "\n",
        "> • Debe analizarse el problema para encontrar todos los valores enteros posibles planteando las siguientes cuestiones: \n",
        ">> - ¿Qué valor máximo y mínimo se pueden obtener según las condiciones del problema?\n",
        ">> - ¿Es posible encontrar todos los valores enteros posibles entre dicho mínimo y máximo ?\n",
        "\n",
        "\n",
        "\n",
        "\n",
        "\n",
        "                                        "
      ]
    },
    {
      "cell_type": "markdown",
      "metadata": {
        "id": "3_-exlrTgLd-"
      },
      "source": [
        "(*)¿Cuantas posibilidades hay sin tener en cuenta las restricciones?<br>\n",
        "\n",
        "\n",
        "\n",
        "¿Cuantas posibilidades hay teniendo en cuenta todas las restricciones.\n",
        "\n",
        "\n"
      ]
    },
    {
      "cell_type": "markdown",
      "metadata": {
        "id": "WfCUqJyKhPcw"
      },
      "source": [
        "Respuesta"
      ]
    },
    {
      "cell_type": "markdown",
      "metadata": {
        "id": "iq6Fe32MgpDX"
      },
      "source": [
        "Consideramos que el problema se plantea como una combinatoria de nueve elementos en un string de caracteres, y que no tenemos restricciones a la hora de realizar todas las combinaciones posibles con y sin repeticiòn, es posible aplicar reglas simples de permutaciòn y combinatoria para determinar todas las combinaciones posibles.\n",
        "\n",
        "> * Combinaciones posibles sin repeticiòn:\n",
        "\n",
        ">> Se selecciona un grupo de 5 nùmeros del conjunto de nùmeros enteros del 1 al 9, sin repeticiòn.  La cantidad de combinaciones posibles resulta en:\n",
        "\n",
        "$$\n",
        "\\binom{9}{5} = \\frac{9!}{5!(9 - 5)!} = \\frac{9!}{5! \\cdot 4!} = 126\n",
        "$$\n",
        "\n",
        ">> Considerando los nueve elementos de la expresiòn, se calcula la permutaciòn considerando todos los elementos sin repeticiòn.  La cantidad de permutaciones posibles resulta en:\n",
        "\n",
        "$$\n",
        "P(9) = 9! = 362{,}880\n",
        "$$\n",
        "\n",
        ">> El total de combinaciones posibles es el resultado de multiplicar los resultados de la combinatoria y la permutaciòn, resultando en $ 45{,}722{,}880 $ combinaciones.\n",
        "\n",
        "\n"
      ]
    },
    {
      "cell_type": "code",
      "execution_count": 1,
      "metadata": {},
      "outputs": [
        {
          "name": "stdout",
          "output_type": "stream",
          "text": [
            "Total de permutaciones generadas: 45722880\n"
          ]
        }
      ],
      "source": [
        "from itertools import permutations, combinations\n",
        "\n",
        "numeros = range(1, 10)\n",
        "operadores = ['+', '-', '*', '/']\n",
        "\n",
        "# Lista para almacenar permutaciones completas\n",
        "permutaciones_completas = []\n",
        "\n",
        "# Paso 1: combinar 5 números únicos con los 4 operadores\n",
        "for seleccion_numeros in combinations(numeros, 5):\n",
        "    elementos = list(seleccion_numeros) + operadores  # total 9 elementos\n",
        "    for perm in permutations(elementos):\n",
        "        permutaciones_completas.append(perm)\n",
        "\n",
        "\n",
        "print(f\"Total de permutaciones generadas: {len(permutaciones_completas)}\")"
      ]
    },
    {
      "cell_type": "markdown",
      "metadata": {},
      "source": [
        "> * Combinaciones posibles con repeticiòn:\n",
        "\n",
        ">> Se selecciona un grupo de 5 nùmeros del conjunto de nùmeros enteros del 1 al 9, con repeticiòn.  La cantidad de combinaciones posibles resulta en:\n",
        "\n",
        "$$\n",
        "C_{\\text{con rep}}(9, 5) = \\binom{9 + 5 - 1}{5} = \\binom{13}{5} = 1{,}287\n",
        "$$\n",
        "\n",
        ">> Considerando los nueve elementos de la expresiòn, se calcula la permutaciòn considerando todos los elementos con repeticiòn.  La cantidad de permutaciones posibles resulta en:\n",
        "\n",
        "$$\n",
        "P_{\\text{con rep}}(9, 9) = 9^9 = 387{,}420{,}489\n",
        "$$\n",
        "\n",
        ">> El total de combinaciones posibles es el resultado de multiplicar los resultados de la combinatoria y la permutaciòn, resultando en $ 498{,}610{,}169{,}343 $ combinaciones."
      ]
    },
    {
      "cell_type": "code",
      "execution_count": null,
      "metadata": {},
      "outputs": [],
      "source": [
        "from itertools import product, combinations_with_replacement\n",
        "\n",
        "numeros = range(1, 10)\n",
        "operadores = ['+', '-', '*', '/']\n",
        "\n",
        "# Lista para almacenar permutaciones completas\n",
        "count = 0\n",
        "\n",
        "# Paso 1: combinar 5 números únicos con los 4 operadores\n",
        "for seleccion_numeros in combinations_with_replacement(numeros, 5):\n",
        "    elementos = list(seleccion_numeros) + operadores  # total 9 elementos\n",
        "    for perm in product(elementos, repeat=9):\n",
        "        count += 1\n",
        "\n",
        "\n",
        "print(f\"Total de permutaciones generadas: {count}\")"
      ]
    },
    {
      "cell_type": "code",
      "execution_count": null,
      "metadata": {},
      "outputs": [
        {
          "name": "stdout",
          "output_type": "stream",
          "text": [
            "'(1, 1, 2, 2, 2)' page is 387420489 counter \n",
            "'(1, 1, 1, 1, 1)' page is 387420489 counter \n",
            "'(1, 1, 1, 2, 2)' page is 387420489 counter \n",
            "'(1, 2, 2, 2, 2)' page is 387420489 counter \n",
            "'(1, 1, 1, 1, 2)' page is 387420489 counter \n",
            "'(2, 2, 2, 2, 2)' page is 387420489 counter \n",
            "Counter: 2324522934\n"
          ]
        }
      ],
      "source": [
        "from itertools import product, combinations_with_replacement\n",
        "import concurrent.futures\n",
        "\n",
        "numeros = range(1, 10)\n",
        "operadores = ['+', '-', '*', '/']\n",
        "\n",
        "# Lista para almacenar permutaciones completas\n",
        "counter = 0\n",
        "\n",
        "\n",
        "def calcPermutations(seleccion_numeros,operadores):\n",
        "    \"\"\"\"\"\"\n",
        "    count = 0\n",
        "    elementos = list(seleccion_numeros) + operadores  # total 9 elementos\n",
        "    for perm in product(elementos, repeat=9):\n",
        "        count += 1\n",
        "\n",
        "    return count\n",
        "\n",
        "with concurrent.futures.ThreadPoolExecutor(max_workers=5) as executor:\n",
        "    # Start the load operations and mark each future with its URL\n",
        "    future_perm = {executor.submit(calcPermutations, seleccion_numeros,operadores): str(seleccion_numeros) for seleccion_numeros in combinations_with_replacement(numeros, 5)}\n",
        "    for future in concurrent.futures.as_completed(future_perm):\n",
        "        selection = future_perm[future]\n",
        "        try:\n",
        "            count = future.result()\n",
        "        except Exception as exc:\n",
        "            print('%r generated an exception: %s' % (selection, exc))\n",
        "        else:\n",
        "            print('%r page is %d counter ' % (selection, count))\n",
        "            counter += count\n",
        "\n",
        "print(f\"Counter: {counter}\")\n",
        "\n",
        "\n",
        "\n"
      ]
    },
    {
      "cell_type": "code",
      "execution_count": null,
      "metadata": {},
      "outputs": [],
      "source": [
        "import concurrent.futures\n",
        "import urllib.request\n",
        "\n",
        "URLS = ['http://www.foxnews.com/',\n",
        "        'http://www.cnn.com/',\n",
        "        'http://europe.wsj.com/',\n",
        "        'http://www.bbc.co.uk/',\n",
        "        'http://nonexistent-subdomain.python.org/']\n",
        "\n",
        "# Retrieve a single page and report the URL and contents\n",
        "def load_url(url, timeout):\n",
        "    with urllib.request.urlopen(url, timeout=timeout) as conn:\n",
        "        return conn.read()\n",
        "\n",
        "# We can use a with statement to ensure threads are cleaned up promptly\n",
        "with concurrent.futures.ThreadPoolExecutor(max_workers=5) as executor:\n",
        "    # Start the load operations and mark each future with its URL\n",
        "    future_to_url = {executor.submit(load_url, url, 60): url for url in URLS}\n",
        "    for future in concurrent.futures.as_completed(future_to_url):\n",
        "        url = future_to_url[future]\n",
        "        try:\n",
        "            data = future.result()\n",
        "        except Exception as exc:\n",
        "            print('%r generated an exception: %s' % (url, exc))\n",
        "        else:\n",
        "            print('%r page is %d bytes' % (url, len(data)))"
      ]
    },
    {
      "cell_type": "markdown",
      "metadata": {
        "id": "dzynfVJahHoY"
      },
      "source": [
        "Modelo para el espacio de soluciones<br>\n",
        "(*) ¿Cual es la estructura de datos que mejor se adapta al problema? Argumentalo.(Es posible que hayas elegido una al principio y veas la necesidad de cambiar, arguentalo)\n"
      ]
    },
    {
      "cell_type": "markdown",
      "metadata": {
        "id": "xFIJrOwKi2Ti"
      },
      "source": [
        "Respuesta"
      ]
    },
    {
      "cell_type": "code",
      "execution_count": null,
      "metadata": {
        "id": "38c-7-ejhJmA"
      },
      "outputs": [],
      "source": []
    },
    {
      "cell_type": "markdown",
      "metadata": {
        "id": "7Z9U2W7bi-XS"
      },
      "source": [
        "Según el modelo para el espacio de soluciones<br>\n",
        "(*)¿Cual es la función objetivo?\n",
        "\n",
        "(*)¿Es un problema de maximización o minimización?"
      ]
    },
    {
      "cell_type": "markdown",
      "metadata": {
        "id": "hBalWLM7j1_d"
      },
      "source": [
        "Respuesta"
      ]
    },
    {
      "cell_type": "code",
      "execution_count": null,
      "metadata": {
        "id": "pDA-rg3Gj5Lz"
      },
      "outputs": [],
      "source": []
    },
    {
      "cell_type": "markdown",
      "metadata": {
        "id": "rlnTYgY1j6I2"
      },
      "source": [
        "Diseña un algoritmo para resolver el problema por fuerza bruta"
      ]
    },
    {
      "cell_type": "markdown",
      "metadata": {
        "id": "70rDgxYXkC8r"
      },
      "source": [
        "Respuesta"
      ]
    },
    {
      "cell_type": "code",
      "execution_count": null,
      "metadata": {
        "id": "CJb5sQ0qkENy"
      },
      "outputs": [],
      "source": []
    },
    {
      "cell_type": "markdown",
      "metadata": {
        "id": "tgrnsC2nkFa8"
      },
      "source": [
        "Calcula la complejidad del algoritmo por fuerza bruta"
      ]
    },
    {
      "cell_type": "markdown",
      "metadata": {
        "id": "9eUd3xwckP68"
      },
      "source": [
        "Respuesta"
      ]
    },
    {
      "cell_type": "code",
      "execution_count": null,
      "metadata": {
        "id": "rvZWwL-ckRST"
      },
      "outputs": [],
      "source": []
    },
    {
      "cell_type": "markdown",
      "metadata": {
        "id": "txbrmLmskReM"
      },
      "source": [
        "(*)Diseña un algoritmo que mejore la complejidad del algortimo por fuerza bruta. Argumenta porque crees que mejora el algoritmo por fuerza bruta"
      ]
    },
    {
      "cell_type": "markdown",
      "metadata": {
        "id": "hLrVwt5QkZPD"
      },
      "source": [
        "Respuesta"
      ]
    },
    {
      "cell_type": "code",
      "execution_count": null,
      "metadata": {
        "id": "m1eyM21Vkabg"
      },
      "outputs": [],
      "source": []
    },
    {
      "cell_type": "markdown",
      "metadata": {
        "id": "eGDB4K6uk1iN"
      },
      "source": [
        "(*)Calcula la complejidad del algoritmo"
      ]
    },
    {
      "cell_type": "markdown",
      "metadata": {
        "id": "NhpTh_BPk1ms"
      },
      "source": [
        "Respuesta"
      ]
    },
    {
      "cell_type": "code",
      "execution_count": null,
      "metadata": {
        "id": "nREzhkStlCq8"
      },
      "outputs": [],
      "source": []
    },
    {
      "cell_type": "markdown",
      "metadata": {
        "id": "3M6QjTsSkmYe"
      },
      "source": [
        "Según el problema (y tenga sentido), diseña un juego de datos de entrada aleatorios"
      ]
    },
    {
      "cell_type": "markdown",
      "metadata": {
        "id": "Jc3_OlyNkvjZ"
      },
      "source": [
        "Respuesta"
      ]
    },
    {
      "cell_type": "code",
      "execution_count": null,
      "metadata": {
        "id": "sJ-N2etjkyWc"
      },
      "outputs": [],
      "source": []
    },
    {
      "cell_type": "markdown",
      "metadata": {
        "id": "zy5ZROmjlGo1"
      },
      "source": [
        "Aplica el algoritmo al juego de datos generado"
      ]
    },
    {
      "cell_type": "markdown",
      "metadata": {
        "id": "_Cmj-PVylMsa"
      },
      "source": [
        "Respuesta"
      ]
    },
    {
      "cell_type": "code",
      "execution_count": null,
      "metadata": {
        "id": "Jkx8GeiYlUz1"
      },
      "outputs": [],
      "source": []
    },
    {
      "cell_type": "markdown",
      "metadata": {
        "id": "eTFWUJQrtGcv"
      },
      "source": [
        "Enumera las referencias que has utilizado(si ha sido necesario) para llevar a cabo el trabajo"
      ]
    },
    {
      "cell_type": "markdown",
      "metadata": {
        "id": "YKQ_mRBttWsP"
      },
      "source": [
        "Respuesta"
      ]
    },
    {
      "cell_type": "markdown",
      "metadata": {
        "id": "kAkDPUyRtYyH"
      },
      "source": [
        "Describe brevemente las lineas de como crees que es posible avanzar en el estudio del problema. Ten en cuenta incluso posibles variaciones del problema y/o variaciones al alza del tamaño"
      ]
    },
    {
      "cell_type": "markdown",
      "metadata": {},
      "source": []
    },
    {
      "cell_type": "markdown",
      "metadata": {
        "id": "IE0uZmo-tZu-"
      },
      "source": [
        "Respuesta"
      ]
    },
    {
      "cell_type": "markdown",
      "metadata": {},
      "source": [
        "Analisis Inicial"
      ]
    },
    {
      "cell_type": "code",
      "execution_count": null,
      "metadata": {},
      "outputs": [
        {
          "name": "stdout",
          "output_type": "stream",
          "text": [
            "1: (1, 2, 3, 4, 5, '+', '-', '*', '/')\n",
            "2: (1, 2, 3, 4, 5, '+', '-', '/', '*')\n",
            "3: (1, 2, 3, 4, 5, '+', '*', '-', '/')\n",
            "4: (1, 2, 3, 4, 5, '+', '*', '/', '-')\n",
            "5: (1, 2, 3, 4, 5, '+', '/', '-', '*')\n",
            "Total de permutaciones generadas: 45722880\n"
          ]
        }
      ],
      "source": [
        "from itertools import permutations, combinations\n",
        "\n",
        "numeros = range(1, 10)\n",
        "operadores = ['+', '-', '*', '/']\n",
        "\n",
        "# Lista para almacenar permutaciones completas\n",
        "permutaciones_completas = []\n",
        "\n",
        "# Paso 1: combinar 5 números únicos con los 4 operadores\n",
        "for seleccion_numeros in combinations(numeros, 5):\n",
        "    elementos = list(seleccion_numeros) + operadores  # total 9 elementos\n",
        "    for perm in permutations(elementos):\n",
        "        permutaciones_completas.append(perm)\n",
        "\n",
        "# Ejemplo: mostrar primeras 5\n",
        "for i, p in enumerate(permutaciones_completas[:5]):\n",
        "    print(f\"{i+1}: {p}\")\n",
        "\n",
        "print(f\"Total de permutaciones generadas: {len(permutaciones_completas)}\")\n"
      ]
    },
    {
      "cell_type": "code",
      "execution_count": 11,
      "metadata": {},
      "outputs": [
        {
          "data": {
            "text/plain": [
              "126"
            ]
          },
          "execution_count": 11,
          "metadata": {},
          "output_type": "execute_result"
        }
      ],
      "source": [
        "len([i for i in combinations(numeros, 5)])"
      ]
    },
    {
      "cell_type": "code",
      "execution_count": 9,
      "metadata": {},
      "outputs": [
        {
          "data": {
            "text/plain": [
              "('/', '*', '-', '+', 9, 8, 7, 6, 5)"
            ]
          },
          "execution_count": 9,
          "metadata": {},
          "output_type": "execute_result"
        }
      ],
      "source": [
        "permutaciones_completas[-1]"
      ]
    },
    {
      "cell_type": "code",
      "execution_count": 2,
      "metadata": {},
      "outputs": [
        {
          "name": "stdout",
          "output_type": "stream",
          "text": [
            "(1, 2, 3, 4, 5)\n",
            "(1, 2, 3, 4, 6)\n",
            "(1, 2, 3, 4, 7)\n",
            "(1, 2, 3, 4, 8)\n",
            "(1, 2, 3, 4, 9)\n",
            "(1, 2, 3, 5, 6)\n",
            "(1, 2, 3, 5, 7)\n",
            "(1, 2, 3, 5, 8)\n",
            "(1, 2, 3, 5, 9)\n",
            "(1, 2, 3, 6, 7)\n",
            "(1, 2, 3, 6, 8)\n",
            "(1, 2, 3, 6, 9)\n",
            "(1, 2, 3, 7, 8)\n",
            "(1, 2, 3, 7, 9)\n",
            "(1, 2, 3, 8, 9)\n",
            "(1, 2, 4, 5, 6)\n",
            "(1, 2, 4, 5, 7)\n",
            "(1, 2, 4, 5, 8)\n",
            "(1, 2, 4, 5, 9)\n",
            "(1, 2, 4, 6, 7)\n",
            "(1, 2, 4, 6, 8)\n",
            "(1, 2, 4, 6, 9)\n",
            "(1, 2, 4, 7, 8)\n",
            "(1, 2, 4, 7, 9)\n",
            "(1, 2, 4, 8, 9)\n",
            "(1, 2, 5, 6, 7)\n",
            "(1, 2, 5, 6, 8)\n",
            "(1, 2, 5, 6, 9)\n",
            "(1, 2, 5, 7, 8)\n",
            "(1, 2, 5, 7, 9)\n",
            "(1, 2, 5, 8, 9)\n",
            "(1, 2, 6, 7, 8)\n",
            "(1, 2, 6, 7, 9)\n",
            "(1, 2, 6, 8, 9)\n",
            "(1, 2, 7, 8, 9)\n",
            "(1, 3, 4, 5, 6)\n",
            "(1, 3, 4, 5, 7)\n",
            "(1, 3, 4, 5, 8)\n",
            "(1, 3, 4, 5, 9)\n",
            "(1, 3, 4, 6, 7)\n",
            "(1, 3, 4, 6, 8)\n",
            "(1, 3, 4, 6, 9)\n",
            "(1, 3, 4, 7, 8)\n",
            "(1, 3, 4, 7, 9)\n",
            "(1, 3, 4, 8, 9)\n",
            "(1, 3, 5, 6, 7)\n",
            "(1, 3, 5, 6, 8)\n",
            "(1, 3, 5, 6, 9)\n",
            "(1, 3, 5, 7, 8)\n",
            "(1, 3, 5, 7, 9)\n",
            "(1, 3, 5, 8, 9)\n",
            "(1, 3, 6, 7, 8)\n",
            "(1, 3, 6, 7, 9)\n",
            "(1, 3, 6, 8, 9)\n",
            "(1, 3, 7, 8, 9)\n",
            "(1, 4, 5, 6, 7)\n",
            "(1, 4, 5, 6, 8)\n",
            "(1, 4, 5, 6, 9)\n",
            "(1, 4, 5, 7, 8)\n",
            "(1, 4, 5, 7, 9)\n",
            "(1, 4, 5, 8, 9)\n",
            "(1, 4, 6, 7, 8)\n",
            "(1, 4, 6, 7, 9)\n",
            "(1, 4, 6, 8, 9)\n",
            "(1, 4, 7, 8, 9)\n",
            "(1, 5, 6, 7, 8)\n",
            "(1, 5, 6, 7, 9)\n",
            "(1, 5, 6, 8, 9)\n",
            "(1, 5, 7, 8, 9)\n",
            "(1, 6, 7, 8, 9)\n",
            "(2, 3, 4, 5, 6)\n",
            "(2, 3, 4, 5, 7)\n",
            "(2, 3, 4, 5, 8)\n",
            "(2, 3, 4, 5, 9)\n",
            "(2, 3, 4, 6, 7)\n",
            "(2, 3, 4, 6, 8)\n",
            "(2, 3, 4, 6, 9)\n",
            "(2, 3, 4, 7, 8)\n",
            "(2, 3, 4, 7, 9)\n",
            "(2, 3, 4, 8, 9)\n",
            "(2, 3, 5, 6, 7)\n",
            "(2, 3, 5, 6, 8)\n",
            "(2, 3, 5, 6, 9)\n",
            "(2, 3, 5, 7, 8)\n",
            "(2, 3, 5, 7, 9)\n",
            "(2, 3, 5, 8, 9)\n",
            "(2, 3, 6, 7, 8)\n",
            "(2, 3, 6, 7, 9)\n",
            "(2, 3, 6, 8, 9)\n",
            "(2, 3, 7, 8, 9)\n",
            "(2, 4, 5, 6, 7)\n",
            "(2, 4, 5, 6, 8)\n",
            "(2, 4, 5, 6, 9)\n",
            "(2, 4, 5, 7, 8)\n",
            "(2, 4, 5, 7, 9)\n",
            "(2, 4, 5, 8, 9)\n",
            "(2, 4, 6, 7, 8)\n",
            "(2, 4, 6, 7, 9)\n",
            "(2, 4, 6, 8, 9)\n",
            "(2, 4, 7, 8, 9)\n",
            "(2, 5, 6, 7, 8)\n",
            "(2, 5, 6, 7, 9)\n",
            "(2, 5, 6, 8, 9)\n",
            "(2, 5, 7, 8, 9)\n",
            "(2, 6, 7, 8, 9)\n",
            "(3, 4, 5, 6, 7)\n",
            "(3, 4, 5, 6, 8)\n",
            "(3, 4, 5, 6, 9)\n",
            "(3, 4, 5, 7, 8)\n",
            "(3, 4, 5, 7, 9)\n",
            "(3, 4, 5, 8, 9)\n",
            "(3, 4, 6, 7, 8)\n",
            "(3, 4, 6, 7, 9)\n",
            "(3, 4, 6, 8, 9)\n",
            "(3, 4, 7, 8, 9)\n",
            "(3, 5, 6, 7, 8)\n",
            "(3, 5, 6, 7, 9)\n",
            "(3, 5, 6, 8, 9)\n",
            "(3, 5, 7, 8, 9)\n",
            "(3, 6, 7, 8, 9)\n",
            "(4, 5, 6, 7, 8)\n",
            "(4, 5, 6, 7, 9)\n",
            "(4, 5, 6, 8, 9)\n",
            "(4, 5, 7, 8, 9)\n",
            "(4, 6, 7, 8, 9)\n",
            "(5, 6, 7, 8, 9)\n"
          ]
        }
      ],
      "source": [
        "from itertools import permutations, combinations\n",
        "\n",
        "numeros = range(1, 10)\n",
        "for i in combinations(numeros, 5):\n",
        "    print(i)"
      ]
    },
    {
      "cell_type": "code",
      "execution_count": null,
      "metadata": {},
      "outputs": [],
      "source": []
    }
  ],
  "metadata": {
    "colab": {
      "provenance": []
    },
    "kernelspec": {
      "display_name": "Python 3",
      "language": "python",
      "name": "python3"
    },
    "language_info": {
      "codemirror_mode": {
        "name": "ipython",
        "version": 3
      },
      "file_extension": ".py",
      "mimetype": "text/x-python",
      "name": "python",
      "nbconvert_exporter": "python",
      "pygments_lexer": "ipython3",
      "version": "3.13.3"
    }
  },
  "nbformat": 4,
  "nbformat_minor": 0
}
