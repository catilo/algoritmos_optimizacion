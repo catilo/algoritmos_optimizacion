{
  "cells": [
    {
      "cell_type": "markdown",
      "metadata": {
        "id": "hVbXYX-RfPWh"
      },
      "source": [
        "# Algoritmos de optimización - Seminario<br>\n",
        "Nombre y Apellidos:   Alejandro Napoleon Thoux Duran<br>\n",
        "Url: https://github.com/catilo/algoritmos_optimizacion/blob/main/proyecto/Seminario_Algoritmos.ipynb<br>\n",
        "Problema:\n",
        "\n",
        "Combinar cifras y operaciones\n",
        "\n",
        "Descripción del problema:\n",
        "\n",
        "> • El problema consiste en analizar el siguiente problema y diseñar un algoritmo que lo resuelva. \n",
        "\n",
        ">• Disponemos de las 9 cifras del 1 al 9 (excluimos el cero) y de los 4 signos básicos de las operaciones fundamentales: suma(+), resta(-), multiplicación(*) y división(/)\n",
        "\n",
        ">• Debemos combinarlos alternativamente sin repetir ninguno de ellos para obtener una cantidad dada. \n",
        "\n",
        "Un ejemplo sería para obtener el 4: 4+2-6/3*1 = 4\n",
        "\n",
        "> • Debe analizarse el problema para encontrar todos los valores enteros posibles planteando las siguientes cuestiones: \n",
        ">> - ¿Qué valor máximo y mínimo se pueden obtener según las condiciones del problema?\n",
        ">> - ¿Es posible encontrar todos los valores enteros posibles entre dicho mínimo y máximo ?\n",
        "\n",
        "\n",
        "\n",
        "\n",
        "\n",
        "                                        "
      ]
    },
    {
      "cell_type": "code",
      "execution_count": null,
      "metadata": {
        "id": "AiskKkzZfy4e"
      },
      "outputs": [],
      "source": []
    },
    {
      "cell_type": "markdown",
      "metadata": {
        "id": "3_-exlrTgLd-"
      },
      "source": [
        "(*)¿Cuantas posibilidades hay sin tener en cuenta las restricciones?<br>\n",
        "\n",
        "\n",
        "\n",
        "¿Cuantas posibilidades hay teniendo en cuenta todas las restricciones.\n",
        "\n",
        "\n"
      ]
    },
    {
      "cell_type": "markdown",
      "metadata": {
        "id": "WfCUqJyKhPcw"
      },
      "source": [
        "Respuesta"
      ]
    },
    {
      "cell_type": "code",
      "execution_count": null,
      "metadata": {
        "id": "iq6Fe32MgpDX"
      },
      "outputs": [],
      "source": []
    },
    {
      "cell_type": "markdown",
      "metadata": {
        "id": "dzynfVJahHoY"
      },
      "source": [
        "Modelo para el espacio de soluciones<br>\n",
        "(*) ¿Cual es la estructura de datos que mejor se adapta al problema? Argumentalo.(Es posible que hayas elegido una al principio y veas la necesidad de cambiar, arguentalo)\n"
      ]
    },
    {
      "cell_type": "markdown",
      "metadata": {
        "id": "xFIJrOwKi2Ti"
      },
      "source": [
        "Respuesta"
      ]
    },
    {
      "cell_type": "code",
      "execution_count": null,
      "metadata": {
        "id": "38c-7-ejhJmA"
      },
      "outputs": [],
      "source": []
    },
    {
      "cell_type": "markdown",
      "metadata": {
        "id": "7Z9U2W7bi-XS"
      },
      "source": [
        "Según el modelo para el espacio de soluciones<br>\n",
        "(*)¿Cual es la función objetivo?\n",
        "\n",
        "(*)¿Es un problema de maximización o minimización?"
      ]
    },
    {
      "cell_type": "markdown",
      "metadata": {
        "id": "hBalWLM7j1_d"
      },
      "source": [
        "Respuesta"
      ]
    },
    {
      "cell_type": "code",
      "execution_count": null,
      "metadata": {
        "id": "pDA-rg3Gj5Lz"
      },
      "outputs": [],
      "source": []
    },
    {
      "cell_type": "markdown",
      "metadata": {
        "id": "rlnTYgY1j6I2"
      },
      "source": [
        "Diseña un algoritmo para resolver el problema por fuerza bruta"
      ]
    },
    {
      "cell_type": "markdown",
      "metadata": {
        "id": "70rDgxYXkC8r"
      },
      "source": [
        "Respuesta"
      ]
    },
    {
      "cell_type": "code",
      "execution_count": null,
      "metadata": {
        "id": "CJb5sQ0qkENy"
      },
      "outputs": [],
      "source": []
    },
    {
      "cell_type": "markdown",
      "metadata": {
        "id": "tgrnsC2nkFa8"
      },
      "source": [
        "Calcula la complejidad del algoritmo por fuerza bruta"
      ]
    },
    {
      "cell_type": "markdown",
      "metadata": {
        "id": "9eUd3xwckP68"
      },
      "source": [
        "Respuesta"
      ]
    },
    {
      "cell_type": "code",
      "execution_count": null,
      "metadata": {
        "id": "rvZWwL-ckRST"
      },
      "outputs": [],
      "source": []
    },
    {
      "cell_type": "markdown",
      "metadata": {
        "id": "txbrmLmskReM"
      },
      "source": [
        "(*)Diseña un algoritmo que mejore la complejidad del algortimo por fuerza bruta. Argumenta porque crees que mejora el algoritmo por fuerza bruta"
      ]
    },
    {
      "cell_type": "markdown",
      "metadata": {
        "id": "hLrVwt5QkZPD"
      },
      "source": [
        "Respuesta"
      ]
    },
    {
      "cell_type": "code",
      "execution_count": null,
      "metadata": {
        "id": "m1eyM21Vkabg"
      },
      "outputs": [],
      "source": []
    },
    {
      "cell_type": "markdown",
      "metadata": {
        "id": "eGDB4K6uk1iN"
      },
      "source": [
        "(*)Calcula la complejidad del algoritmo"
      ]
    },
    {
      "cell_type": "markdown",
      "metadata": {
        "id": "NhpTh_BPk1ms"
      },
      "source": [
        "Respuesta"
      ]
    },
    {
      "cell_type": "code",
      "execution_count": null,
      "metadata": {
        "id": "nREzhkStlCq8"
      },
      "outputs": [],
      "source": []
    },
    {
      "cell_type": "markdown",
      "metadata": {
        "id": "3M6QjTsSkmYe"
      },
      "source": [
        "Según el problema (y tenga sentido), diseña un juego de datos de entrada aleatorios"
      ]
    },
    {
      "cell_type": "markdown",
      "metadata": {
        "id": "Jc3_OlyNkvjZ"
      },
      "source": [
        "Respuesta"
      ]
    },
    {
      "cell_type": "code",
      "execution_count": null,
      "metadata": {
        "id": "sJ-N2etjkyWc"
      },
      "outputs": [],
      "source": []
    },
    {
      "cell_type": "markdown",
      "metadata": {
        "id": "zy5ZROmjlGo1"
      },
      "source": [
        "Aplica el algoritmo al juego de datos generado"
      ]
    },
    {
      "cell_type": "markdown",
      "metadata": {
        "id": "_Cmj-PVylMsa"
      },
      "source": [
        "Respuesta"
      ]
    },
    {
      "cell_type": "code",
      "execution_count": null,
      "metadata": {
        "id": "Jkx8GeiYlUz1"
      },
      "outputs": [],
      "source": []
    },
    {
      "cell_type": "markdown",
      "metadata": {
        "id": "eTFWUJQrtGcv"
      },
      "source": [
        "Enumera las referencias que has utilizado(si ha sido necesario) para llevar a cabo el trabajo"
      ]
    },
    {
      "cell_type": "markdown",
      "metadata": {
        "id": "YKQ_mRBttWsP"
      },
      "source": [
        "Respuesta"
      ]
    },
    {
      "cell_type": "markdown",
      "metadata": {
        "id": "kAkDPUyRtYyH"
      },
      "source": [
        "Describe brevemente las lineas de como crees que es posible avanzar en el estudio del problema. Ten en cuenta incluso posibles variaciones del problema y/o variaciones al alza del tamaño"
      ]
    },
    {
      "cell_type": "markdown",
      "metadata": {},
      "source": []
    },
    {
      "cell_type": "markdown",
      "metadata": {
        "id": "IE0uZmo-tZu-"
      },
      "source": [
        "Respuesta"
      ]
    },
    {
      "cell_type": "markdown",
      "metadata": {},
      "source": [
        "Analisis Inicial"
      ]
    },
    {
      "cell_type": "code",
      "execution_count": null,
      "metadata": {},
      "outputs": [
        {
          "name": "stdout",
          "output_type": "stream",
          "text": [
            "1: (1, 2, 3, 4, 5, '+', '-', '*', '/')\n",
            "2: (1, 2, 3, 4, 5, '+', '-', '/', '*')\n",
            "3: (1, 2, 3, 4, 5, '+', '*', '-', '/')\n",
            "4: (1, 2, 3, 4, 5, '+', '*', '/', '-')\n",
            "5: (1, 2, 3, 4, 5, '+', '/', '-', '*')\n",
            "Total de permutaciones generadas: 45722880\n"
          ]
        }
      ],
      "source": [
        "from itertools import permutations, combinations\n",
        "\n",
        "numeros = range(1, 10)\n",
        "operadores = ['+', '-', '*', '/']\n",
        "\n",
        "# Lista para almacenar permutaciones completas\n",
        "permutaciones_completas = []\n",
        "\n",
        "# Paso 1: combinar 5 números únicos con los 4 operadores\n",
        "for seleccion_numeros in combinations(numeros, 5):\n",
        "    elementos = list(seleccion_numeros) + operadores  # total 9 elementos\n",
        "    for perm in permutations(elementos):\n",
        "        permutaciones_completas.append(perm)\n",
        "\n",
        "# Ejemplo: mostrar primeras 5\n",
        "for i, p in enumerate(permutaciones_completas[:5]):\n",
        "    print(f\"{i+1}: {p}\")\n",
        "\n",
        "print(f\"Total de permutaciones generadas: {len(permutaciones_completas)}\")\n"
      ]
    },
    {
      "cell_type": "code",
      "execution_count": 11,
      "metadata": {},
      "outputs": [
        {
          "data": {
            "text/plain": [
              "126"
            ]
          },
          "execution_count": 11,
          "metadata": {},
          "output_type": "execute_result"
        }
      ],
      "source": [
        "len([i for i in combinations(numeros, 5)])"
      ]
    },
    {
      "cell_type": "code",
      "execution_count": 9,
      "metadata": {},
      "outputs": [
        {
          "data": {
            "text/plain": [
              "('/', '*', '-', '+', 9, 8, 7, 6, 5)"
            ]
          },
          "execution_count": 9,
          "metadata": {},
          "output_type": "execute_result"
        }
      ],
      "source": [
        "permutaciones_completas[-1]"
      ]
    },
    {
      "cell_type": "code",
      "execution_count": 2,
      "metadata": {},
      "outputs": [
        {
          "name": "stdout",
          "output_type": "stream",
          "text": [
            "(1, 2, 3, 4, 5)\n",
            "(1, 2, 3, 4, 6)\n",
            "(1, 2, 3, 4, 7)\n",
            "(1, 2, 3, 4, 8)\n",
            "(1, 2, 3, 4, 9)\n",
            "(1, 2, 3, 5, 6)\n",
            "(1, 2, 3, 5, 7)\n",
            "(1, 2, 3, 5, 8)\n",
            "(1, 2, 3, 5, 9)\n",
            "(1, 2, 3, 6, 7)\n",
            "(1, 2, 3, 6, 8)\n",
            "(1, 2, 3, 6, 9)\n",
            "(1, 2, 3, 7, 8)\n",
            "(1, 2, 3, 7, 9)\n",
            "(1, 2, 3, 8, 9)\n",
            "(1, 2, 4, 5, 6)\n",
            "(1, 2, 4, 5, 7)\n",
            "(1, 2, 4, 5, 8)\n",
            "(1, 2, 4, 5, 9)\n",
            "(1, 2, 4, 6, 7)\n",
            "(1, 2, 4, 6, 8)\n",
            "(1, 2, 4, 6, 9)\n",
            "(1, 2, 4, 7, 8)\n",
            "(1, 2, 4, 7, 9)\n",
            "(1, 2, 4, 8, 9)\n",
            "(1, 2, 5, 6, 7)\n",
            "(1, 2, 5, 6, 8)\n",
            "(1, 2, 5, 6, 9)\n",
            "(1, 2, 5, 7, 8)\n",
            "(1, 2, 5, 7, 9)\n",
            "(1, 2, 5, 8, 9)\n",
            "(1, 2, 6, 7, 8)\n",
            "(1, 2, 6, 7, 9)\n",
            "(1, 2, 6, 8, 9)\n",
            "(1, 2, 7, 8, 9)\n",
            "(1, 3, 4, 5, 6)\n",
            "(1, 3, 4, 5, 7)\n",
            "(1, 3, 4, 5, 8)\n",
            "(1, 3, 4, 5, 9)\n",
            "(1, 3, 4, 6, 7)\n",
            "(1, 3, 4, 6, 8)\n",
            "(1, 3, 4, 6, 9)\n",
            "(1, 3, 4, 7, 8)\n",
            "(1, 3, 4, 7, 9)\n",
            "(1, 3, 4, 8, 9)\n",
            "(1, 3, 5, 6, 7)\n",
            "(1, 3, 5, 6, 8)\n",
            "(1, 3, 5, 6, 9)\n",
            "(1, 3, 5, 7, 8)\n",
            "(1, 3, 5, 7, 9)\n",
            "(1, 3, 5, 8, 9)\n",
            "(1, 3, 6, 7, 8)\n",
            "(1, 3, 6, 7, 9)\n",
            "(1, 3, 6, 8, 9)\n",
            "(1, 3, 7, 8, 9)\n",
            "(1, 4, 5, 6, 7)\n",
            "(1, 4, 5, 6, 8)\n",
            "(1, 4, 5, 6, 9)\n",
            "(1, 4, 5, 7, 8)\n",
            "(1, 4, 5, 7, 9)\n",
            "(1, 4, 5, 8, 9)\n",
            "(1, 4, 6, 7, 8)\n",
            "(1, 4, 6, 7, 9)\n",
            "(1, 4, 6, 8, 9)\n",
            "(1, 4, 7, 8, 9)\n",
            "(1, 5, 6, 7, 8)\n",
            "(1, 5, 6, 7, 9)\n",
            "(1, 5, 6, 8, 9)\n",
            "(1, 5, 7, 8, 9)\n",
            "(1, 6, 7, 8, 9)\n",
            "(2, 3, 4, 5, 6)\n",
            "(2, 3, 4, 5, 7)\n",
            "(2, 3, 4, 5, 8)\n",
            "(2, 3, 4, 5, 9)\n",
            "(2, 3, 4, 6, 7)\n",
            "(2, 3, 4, 6, 8)\n",
            "(2, 3, 4, 6, 9)\n",
            "(2, 3, 4, 7, 8)\n",
            "(2, 3, 4, 7, 9)\n",
            "(2, 3, 4, 8, 9)\n",
            "(2, 3, 5, 6, 7)\n",
            "(2, 3, 5, 6, 8)\n",
            "(2, 3, 5, 6, 9)\n",
            "(2, 3, 5, 7, 8)\n",
            "(2, 3, 5, 7, 9)\n",
            "(2, 3, 5, 8, 9)\n",
            "(2, 3, 6, 7, 8)\n",
            "(2, 3, 6, 7, 9)\n",
            "(2, 3, 6, 8, 9)\n",
            "(2, 3, 7, 8, 9)\n",
            "(2, 4, 5, 6, 7)\n",
            "(2, 4, 5, 6, 8)\n",
            "(2, 4, 5, 6, 9)\n",
            "(2, 4, 5, 7, 8)\n",
            "(2, 4, 5, 7, 9)\n",
            "(2, 4, 5, 8, 9)\n",
            "(2, 4, 6, 7, 8)\n",
            "(2, 4, 6, 7, 9)\n",
            "(2, 4, 6, 8, 9)\n",
            "(2, 4, 7, 8, 9)\n",
            "(2, 5, 6, 7, 8)\n",
            "(2, 5, 6, 7, 9)\n",
            "(2, 5, 6, 8, 9)\n",
            "(2, 5, 7, 8, 9)\n",
            "(2, 6, 7, 8, 9)\n",
            "(3, 4, 5, 6, 7)\n",
            "(3, 4, 5, 6, 8)\n",
            "(3, 4, 5, 6, 9)\n",
            "(3, 4, 5, 7, 8)\n",
            "(3, 4, 5, 7, 9)\n",
            "(3, 4, 5, 8, 9)\n",
            "(3, 4, 6, 7, 8)\n",
            "(3, 4, 6, 7, 9)\n",
            "(3, 4, 6, 8, 9)\n",
            "(3, 4, 7, 8, 9)\n",
            "(3, 5, 6, 7, 8)\n",
            "(3, 5, 6, 7, 9)\n",
            "(3, 5, 6, 8, 9)\n",
            "(3, 5, 7, 8, 9)\n",
            "(3, 6, 7, 8, 9)\n",
            "(4, 5, 6, 7, 8)\n",
            "(4, 5, 6, 7, 9)\n",
            "(4, 5, 6, 8, 9)\n",
            "(4, 5, 7, 8, 9)\n",
            "(4, 6, 7, 8, 9)\n",
            "(5, 6, 7, 8, 9)\n"
          ]
        }
      ],
      "source": [
        "from itertools import permutations, combinations\n",
        "\n",
        "numeros = range(1, 10)\n",
        "for i in combinations(numeros, 5):\n",
        "    print(i)"
      ]
    },
    {
      "cell_type": "code",
      "execution_count": null,
      "metadata": {},
      "outputs": [],
      "source": []
    }
  ],
  "metadata": {
    "colab": {
      "provenance": []
    },
    "kernelspec": {
      "display_name": "Python 3",
      "name": "python3"
    },
    "language_info": {
      "codemirror_mode": {
        "name": "ipython",
        "version": 3
      },
      "file_extension": ".py",
      "mimetype": "text/x-python",
      "name": "python",
      "nbconvert_exporter": "python",
      "pygments_lexer": "ipython3",
      "version": "3.13.3"
    }
  },
  "nbformat": 4,
  "nbformat_minor": 0
}
