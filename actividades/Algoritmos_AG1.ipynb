{
  "cells": [
    {
      "cell_type": "markdown",
      "metadata": {
        "id": "kQn6fbhgtH9I"
      },
      "source": [
        "#Algoritmos - Actividad Guiada 1\n",
        "\n",
        "Nombre: Alejandro Napoleon Thoux<br>\n",
        "URL: https://colab.research.google.com/github/catilo/algoritmos_optimizacion/blob/main/actividades/Algoritmos_AG1.ipynb\n",
        "\n",
        "http:[https://github.com/catilo/algoritmos_optimizacion/blob/main/actividades/Algoritmos_AG1.ipynb](https://github.com/catilo/algoritmos_optimizacion/blob/main/actividades/Algoritmos_AG1.ipynb)\n"
      ]
    },
    {
      "cell_type": "markdown",
      "metadata": {
        "id": "_t62Ge7ZuKnC"
      },
      "source": [
        "##Torres de Hanoi con Divide y vencerás"
      ]
    },
    {
      "cell_type": "code",
      "execution_count": 2,
      "metadata": {
        "colab": {
          "base_uri": "https://localhost:8080/"
        },
        "id": "i32G0CUQvauE",
        "outputId": "c3398cec-661d-46a5-b9db-0a0ad168f64a"
      },
      "outputs": [
        {
          "name": "stdout",
          "output_type": "stream",
          "text": [
            "Lleva la ficha  1  hasta  3\n",
            "Lleva la ficha  1  hasta  2\n",
            "Lleva la ficha  3  hasta  2\n",
            "Lleva la ficha  1  hasta  3\n",
            "Lleva la ficha  2  hasta  1\n",
            "Lleva la ficha  2  hasta  3\n",
            "Lleva la ficha  1  hasta  3\n"
          ]
        }
      ],
      "source": [
        "def Torres_Hanoi(N, desde, hasta):\n",
        "  if N ==1 :\n",
        "    print(\"Lleva la ficha \" ,desde , \" hasta \", hasta )\n",
        "\n",
        "  else:\n",
        "    #Torres_Hanoi(N-1, desde, 6-desde-hasta )\n",
        "    Torres_Hanoi(N-1, desde, 6-desde-hasta )\n",
        "    print(\"Lleva la ficha \" ,desde , \" hasta \", hasta )\n",
        "    #Torres_Hanoi(N-1,6-desde-hasta, hasta )\n",
        "    Torres_Hanoi(N-1, 6-desde-hasta  , hasta )\n",
        "\n",
        "\n",
        "Torres_Hanoi(3, 1 , 3)"
      ]
    },
    {
      "cell_type": "code",
      "execution_count": 14,
      "metadata": {
        "colab": {
          "base_uri": "https://localhost:8080/"
        },
        "id": "74qZZAekiNYR",
        "outputId": "acc17268-7f87-4de4-ae5a-4fc6ce09d385"
      },
      "outputs": [
        {
          "data": {
            "text/plain": [
              "8"
            ]
          },
          "execution_count": 14,
          "metadata": {},
          "output_type": "execute_result"
        }
      ],
      "source": [
        "#Sucesión_de_Fibonacci\n",
        "#https://es.wikipedia.org/wiki/Sucesi%C3%B3n_de_Fibonacci\n",
        "#Calculo del termino n-simo de la suscesión de Fibonacci\n",
        "def Fibonacci(N:int):\n",
        "  if N < 2:\n",
        "    return 1\n",
        "  else:\n",
        "    return Fibonacci(N-1)+Fibonacci(N-2)\n",
        "\n",
        "Fibonacci(5)"
      ]
    },
    {
      "cell_type": "code",
      "execution_count": 39,
      "metadata": {},
      "outputs": [
        {
          "name": "stdout",
          "output_type": "stream",
          "text": [
            "165580141\n"
          ]
        }
      ],
      "source": [
        "print(Fibonacci(40))"
      ]
    },
    {
      "cell_type": "code",
      "execution_count": 40,
      "metadata": {},
      "outputs": [
        {
          "name": "stdout",
          "output_type": "stream",
          "text": [
            "         331160977 function calls (698 primitive calls) in 52.075 seconds\n",
            "\n",
            "   Ordered by: call count\n",
            "\n",
            "   ncalls  tottime  percall  cumtime  percall filename:lineno(function)\n",
            "331160275/0   52.071    0.000    0.000          3743385582.py:4(Fibonacci)\n",
            "    88/84    0.000    0.000    0.000    0.000 {built-in method builtins.isinstance}\n",
            "       39    0.000    0.000    0.000    0.000 enum.py:1587(_get_value)\n",
            "       28    0.000    0.000    0.000    0.000 {built-in method builtins.len}\n",
            "       22    0.000    0.000    0.000    0.000 base_events.py:766(time)\n",
            "       22    0.000    0.000    0.000    0.000 {built-in method time.monotonic}\n",
            "       21    0.000    0.000    0.000    0.000 base_events.py:2052(get_debug)\n",
            "       17    0.000    0.000    0.000    0.000 enum.py:695(__call__)\n",
            "       17    0.000    0.000    0.000    0.000 enum.py:1154(__new__)\n",
            "       15    0.000    0.000    0.000    0.000 threading.py:605(is_set)\n",
            "       15    0.000    0.000    0.000    0.000 threading.py:1134(is_alive)\n",
            "       15    0.000    0.000    0.000    0.000 {method 'is_done' of '_thread._ThreadHandle' objects}\n",
            "       13    0.000    0.000    0.000    0.000 typing.py:2371(cast)\n",
            "       12    0.000    0.000    0.000    0.000 {method 'append' of 'collections.deque' objects}\n",
            "       12    0.000    0.000    0.000    0.000 {method 'popleft' of 'collections.deque' objects}\n",
            "       12    0.000    0.000    0.000    0.000 {built-in method builtins.max}\n",
            "       11    0.000    0.000    0.000    0.000 selector_events.py:740(_process_events)\n",
            "       11    0.000    0.000    0.001    0.000 events.py:87(_run)\n",
            "       11    0.000    0.000    0.002    0.000 base_events.py:1954(_run_once)\n",
            "       11    0.000    0.000    0.001    0.000 selectors.py:310(select)\n",
            "       11    0.000    0.000    0.000    0.000 base_events.py:548(_check_closed)\n",
            "       11    0.000    0.000    0.001    0.000 selectors.py:304(_select)\n",
            "       11    0.000    0.000    0.000    0.000 events.py:36(__init__)\n",
            "       11    0.000    0.000    0.001    0.000 {method 'run' of '_contextvars.Context' objects}\n",
            "       11    0.000    0.000    0.001    0.000 {built-in method select.select}\n",
            "       10    0.000    0.000    0.000    0.000 tasks.py:703(sleep)\n",
            "        9    0.000    0.000    0.000    0.000 {method '__exit__' of '_thread.lock' objects}\n",
            "        8    0.000    0.000    0.000    0.000 enum.py:1594(__or__)\n",
            "        8    0.000    0.000    0.000    0.000 {built-in method builtins.hasattr}\n",
            "        7    0.000    0.000    0.000    0.000 socket.py:623(send)\n",
            "        6    0.000    0.000    0.000    0.000 base_events.py:846(_call_soon)\n",
            "        6    0.000    0.000    0.000    0.000 base_events.py:817(call_soon)\n",
            "        6    0.000    0.000    0.000    0.000 {built-in method _contextvars.copy_context}\n",
            "        6    0.000    0.000    0.000    0.000 {built-in method _asyncio.get_running_loop}\n",
            "        5    0.000    0.000    0.000    0.000 enum.py:1605(__and__)\n",
            "        5    0.000    0.000    0.000    0.000 base_events.py:799(call_at)\n",
            "        5    0.000    0.000    0.000    0.000 base_events.py:775(call_later)\n",
            "        5    0.000    0.000    0.000    0.000 base_events.py:1949(_timer_handle_cancelled)\n",
            "        5    0.000    0.000    0.000    0.000 base_events.py:457(create_future)\n",
            "        5    0.000    0.000    0.000    0.000 events.py:113(__init__)\n",
            "        5    0.000    0.000    0.000    0.000 events.py:157(cancel)\n",
            "        5    0.000    0.000    0.000    0.000 events.py:73(cancel)\n",
            "        5    0.000    0.000    0.000    0.000 futures.py:310(_set_result_unless_cancelled)\n",
            "        5    0.000    0.000    0.000    0.000 iostream.py:127(_event_pipe_gc)\n",
            "        5    0.000    0.000    0.001    0.000 iostream.py:118(_run_event_pipe_gc)\n",
            "        5    0.000    0.000    0.000    0.000 {built-in method _heapq.heappush}\n",
            "        5    0.000    0.000    0.000    0.000 {built-in method _heapq.heappop}\n",
            "        5    0.000    0.000    0.000    0.000 {built-in method math.isnan}\n",
            "        5    0.000    0.000    0.000    0.000 {method 'items' of 'dict' objects}\n",
            "        5    0.000    0.000    0.000    0.000 {method 'set_result' of '_asyncio.Future' objects}\n",
            "        5    0.000    0.000    0.000    0.000 {method 'cancelled' of '_asyncio.Future' objects}\n",
            "        4    0.000    0.000    0.000    0.000 {method 'get' of 'dict' objects}\n",
            "        3    0.000    0.000    0.000    0.000 <frozen importlib._bootstrap>:1390(_handle_fromlist)\n",
            "        3    0.000    0.000    0.000    0.000 typing.py:426(inner)\n",
            "        3    0.000    0.000    0.000    0.000 attrsettr.py:43(__getattr__)\n",
            "        3    0.000    0.000    0.000    0.000 attrsettr.py:66(_get_attr_opt)\n",
            "        3    0.000    0.000    0.000    0.000 zmqstream.py:528(receiving)\n",
            "        3    0.000    0.000    0.000    0.000 {method 'upper' of 'str' objects}\n",
            "        3    0.000    0.000    0.000    0.000 {built-in method builtins.getattr}\n",
            "        2    0.000    0.000    0.000    0.000 <frozen abc>:121(__subclasscheck__)\n",
            "        2    0.000    0.000    0.000    0.000 typing.py:1443(__hash__)\n",
            "        2    0.000    0.000    0.000    0.000 typing.py:1374(__instancecheck__)\n",
            "        2    0.000    0.000    0.000    0.000 typing.py:1665(__subclasscheck__)\n",
            "        2    0.000    0.000    0.000    0.000 traitlets.py:689(set)\n",
            "        2    0.000    0.000    0.000    0.000 traitlets.py:727(_cross_validate)\n",
            "        2    0.000    0.000    0.000    0.000 traitlets.py:3486(validate_elements)\n",
            "        2    0.000    0.000    0.000    0.000 queue.py:115(empty)\n",
            "        2    0.000    0.000    0.000    0.000 traitlets.py:708(__set__)\n",
            "        2    0.000    0.000    0.000    0.000 traitlets.py:3631(set)\n",
            "        2    0.000    0.000    0.000    0.000 traitlets.py:718(_validate)\n",
            "        2    0.000    0.000    0.000    0.000 traitlets.py:2304(validate)\n",
            "        2    0.000    0.000    0.000    0.000 traitlets.py:3624(validate_elements)\n",
            "        2    0.000    0.000    0.000    0.000 queue.py:267(_qsize)\n",
            "        2    0.000    0.000    0.000    0.000 traitlets.py:3474(validate)\n",
            "        2    0.000    0.000    0.000    0.000 zmqstream.py:532(sending)\n",
            "        2    0.000    0.000    0.000    0.000 zmqstream.py:676(_update_handler)\n",
            "        2    0.000    0.000    0.000    0.000 zmqstream.py:653(_rebuild_io_state)\n",
            "        2    0.000    0.000    0.000    0.000 {built-in method _abc._abc_subclasscheck}\n",
            "        2    0.000    0.000    0.000    0.000 {method 'acquire' of '_thread.lock' objects}\n",
            "        2    0.000    0.000    0.000    0.000 {method 'extend' of 'list' objects}\n",
            "        2    0.000    0.000    0.000    0.000 {built-in method builtins.hash}\n",
            "        2    0.000    0.000    0.000    0.000 {built-in method builtins.issubclass}\n",
            "        2    0.000    0.000    0.000    0.000 {method '__exit__' of 'sqlite3.Connection' objects}\n",
            "        1    0.000    0.000    0.000    0.000 contextlib.py:145(__exit__)\n",
            "        1    0.000    0.000    0.000    0.000 threading.py:318(_is_owned)\n",
            "        1    0.000    0.000    0.000    0.000 threading.py:303(__enter__)\n",
            "        1    0.000    0.000    0.000    0.000 threading.py:312(_release_save)\n",
            "        1    0.000    0.000    0.000    0.000 socket.py:771(recv_multipart)\n",
            "        1    0.000    0.000    0.000    0.000 socket.py:700(send_multipart)\n",
            "        1    0.000    0.000    0.000    0.000 zmqstream.py:573(_handle_events)\n",
            "        1    0.000    0.000    0.000    0.000 traitlets.py:629(get)\n",
            "        1    0.000    0.000    0.000    0.000 traitlets.py:1527(_notify_observers)\n",
            "        1    0.000    0.000    0.000    0.000 zmqstream.py:614(_handle_recv)\n",
            "        1    0.000    0.000    0.000    0.000 traitlets.py:1512(_notify_trait)\n",
            "        1    0.000    0.000    0.000    0.000 traitlets.py:1523(notify_change)\n",
            "        1    0.000    0.000    0.000    0.000 traitlets.py:676(__get__)\n",
            "        1    0.000    0.000    0.000    0.000 ioloop.py:750(_run_callback)\n",
            "        1    0.000    0.000    0.000    0.000 zmqstream.py:546(_run_callback)\n",
            "        1    0.000    0.000    0.000    0.000 zmqstream.py:684(<lambda>)\n",
            "        1    0.000    0.000    0.000    0.000 iostream.py:278(_really_send)\n",
            "        1    0.000    0.000    0.000    0.000 asyncio.py:231(add_callback)\n",
            "        1    0.000    0.000    0.000    0.000 history.py:1016(_writeout_output_cache)\n",
            "        1    0.000    0.000    0.000    0.000 history.py:1065(hold)\n",
            "        1    0.001    0.001    0.001    0.001 iostream.py:276(<lambda>)\n",
            "        1    0.000    0.000    0.000    0.000 iostream.py:255(closed)\n",
            "        1    0.000    0.000    0.000    0.000 iostream.py:216(_check_mp_mode)\n",
            "        1    0.000    0.000    0.000    0.000 iostream.py:213(_is_master_process)\n",
            "        1    0.000    0.000    0.000    0.000 iostream.py:157(_handle_event)\n",
            "        1    0.000    0.000    0.000    0.000 {built-in method nt.getpid}\n",
            "        1    0.000    0.000    0.000    0.000 {method 'release' of '_thread.lock' objects}\n",
            "        1    0.000    0.000    0.000    0.000 {method '__enter__' of '_thread.lock' objects}\n",
            "        1    0.000    0.000    0.000    0.000 {built-in method _thread.allocate_lock}\n",
            "        1    0.000    0.000    0.000    0.000 {built-in method builtins.next}\n",
            "        1    0.000    0.000    0.000    0.000 {method 'disable' of '_lsprof.Profiler' objects}\n",
            "\n",
            "\n"
          ]
        }
      ],
      "source": [
        "import cProfile\n",
        "\n",
        "cProfile.run(\"Fibonacci(40)\",sort='ncalls')"
      ]
    },
    {
      "attachments": {
        "image.png": {
          "image/png": "[encoded data removed]"
        }
      },
      "cell_type": "markdown",
      "metadata": {},
      "source": [
        "#### Sucesiòn de Fibonacci usando la Relaciòn de Oro ( ![image.png](attachment:image.png)) implementando la formula de Binet.  Este mètodo pierde precicisiòn mas alla de F(n) = 34 debido al error en el calculo por el uso de aritmetica de punto flotante. Ademas, en los primeros 5 nùmeros de la serie, el resultado no es preciso. La complejidad es de O(n)."
      ]
    },
    {
      "cell_type": "code",
      "execution_count": 30,
      "metadata": {},
      "outputs": [],
      "source": [
        "def fibGoldenRatio(n: int):\n",
        "    \"\"\"\"\"\"\n",
        "    GR = 1.6180339887\n",
        "    fib = [1, 1, 2, 3, 5, 8 ]\n",
        "\n",
        "    if n < 6:\n",
        "        return fib[n]\n",
        "\n",
        "    \n",
        "    termino = 5\n",
        "    fibbonacci = 8\n",
        "    \n",
        "    while termino < n:\n",
        "        fibbonacci = round(fibbonacci * GR)\n",
        "        termino+=1\n",
        "    \n",
        "    return fibbonacci"
      ]
    },
    {
      "cell_type": "code",
      "execution_count": 42,
      "metadata": {},
      "outputs": [
        {
          "name": "stdout",
          "output_type": "stream",
          "text": [
            "165580141\n"
          ]
        }
      ],
      "source": [
        "print(fibGoldenRatio(40))"
      ]
    },
    {
      "cell_type": "code",
      "execution_count": 41,
      "metadata": {},
      "outputs": [
        {
          "name": "stdout",
          "output_type": "stream",
          "text": [
            "         39 function calls in 0.000 seconds\n",
            "\n",
            "   Ordered by: call count\n",
            "\n",
            "   ncalls  tottime  percall  cumtime  percall filename:lineno(function)\n",
            "       35    0.000    0.000    0.000    0.000 {built-in method builtins.round}\n",
            "        1    0.000    0.000    0.000    0.000 <string>:1(<module>)\n",
            "        1    0.000    0.000    0.000    0.000 2927278474.py:1(fibGoldenRatio)\n",
            "        1    0.000    0.000    0.000    0.000 {built-in method builtins.exec}\n",
            "        1    0.000    0.000    0.000    0.000 {method 'disable' of '_lsprof.Profiler' objects}\n",
            "\n",
            "\n"
          ]
        }
      ],
      "source": [
        "import cProfile\n",
        "\n",
        "cProfile.run(\"fibGoldenRatio(40)\",sort='ncalls')"
      ]
    },
    {
      "cell_type": "markdown",
      "metadata": {
        "id": "RgT5XJsZ429L"
      },
      "source": [
        "##Devolución de cambio por técnica voraz"
      ]
    },
    {
      "cell_type": "code",
      "execution_count": 60,
      "metadata": {
        "colab": {
          "base_uri": "https://localhost:8080/"
        },
        "id": "uJtftBLU4-ap",
        "outputId": "b52f7a2c-771b-4c2e-81ab-c4c3ea01318d"
      },
      "outputs": [
        {
          "data": {
            "text/plain": [
              "[0, 1, 1, 0]"
            ]
          },
          "execution_count": 60,
          "metadata": {},
          "output_type": "execute_result"
        }
      ],
      "source": [
        "def cambio_monedas(N, SM):\n",
        "  SOLUCION = [0]*len(SM)   #SOLUCION = [0,0,0,0,..]\n",
        "  ValorAcumulado = 0\n",
        "\n",
        "  for i,valor in enumerate(SM):\n",
        "    monedas =  (N-ValorAcumulado)//valor\n",
        "    SOLUCION[i] = monedas\n",
        "    ValorAcumulado = ValorAcumulado + monedas*valor\n",
        "\n",
        "    if ValorAcumulado == N:\n",
        "      return SOLUCION\n",
        "\n",
        "\n",
        "cambio_monedas(15,[25,10,5,1])"
      ]
    },
    {
      "cell_type": "code",
      "execution_count": 61,
      "metadata": {},
      "outputs": [
        {
          "name": "stdout",
          "output_type": "stream",
          "text": [
            "         5 function calls in 0.000 seconds\n",
            "\n",
            "   Ordered by: call count\n",
            "\n",
            "   ncalls  tottime  percall  cumtime  percall filename:lineno(function)\n",
            "        1    0.000    0.000    0.000    0.000 514988140.py:1(cambio_monedas)\n",
            "        1    0.000    0.000    0.000    0.000 <string>:1(<module>)\n",
            "        1    0.000    0.000    0.000    0.000 {built-in method builtins.exec}\n",
            "        1    0.000    0.000    0.000    0.000 {built-in method builtins.len}\n",
            "        1    0.000    0.000    0.000    0.000 {method 'disable' of '_lsprof.Profiler' objects}\n",
            "\n",
            "\n"
          ]
        }
      ],
      "source": [
        "import cProfile\n",
        "\n",
        "cProfile.run(\"cambio_monedas(15,[25,10,5,1])\",sort='ncalls')"
      ]
    },
    {
      "cell_type": "markdown",
      "metadata": {},
      "source": [
        "#### Se agrega una condicion adicional para limitar la cantidad de monedas disponibles."
      ]
    },
    {
      "cell_type": "code",
      "execution_count": 63,
      "metadata": {},
      "outputs": [
        {
          "data": {
            "text/plain": [
              "'No se encontro solucion optima: [5, 1, 10, 23] Suma total: 208'"
            ]
          },
          "execution_count": 63,
          "metadata": {},
          "output_type": "execute_result"
        }
      ],
      "source": [
        "def cambio_monedas_extra(N, SM):\n",
        "    SOLUCION = [0]*len(SM)   #SOLUCION = [0,0,0,0,..]\n",
        "    ValorAcumulado = 0\n",
        "\n",
        "    for i,valor in enumerate(SM):\n",
        "        monedas =  (N-ValorAcumulado)//valor[0]\n",
        "        if monedas > valor[1]:\n",
        "            monedas = valor[1]\n",
        "            ValorAcumulado = ValorAcumulado + monedas*valor[0]\n",
        "        else:\n",
        "            ValorAcumulado = ValorAcumulado + monedas*valor[0]\n",
        "\n",
        "        SOLUCION[i] = monedas\n",
        "        \n",
        "        if ValorAcumulado == N:\n",
        "            return SOLUCION\n",
        "    \n",
        "    SOLUCION_SUB_OPTIMA = []\n",
        "    [SOLUCION_SUB_OPTIMA.append(value[0]*value[1][0])  for value in zip(SOLUCION,SM)]\n",
        "    return f\"No se encontro solucion optima: {SOLUCION} Suma total: {sum(SOLUCION_SUB_OPTIMA)}\"\n",
        "    \n",
        "\n",
        "\n",
        "\n",
        "cambio_monedas_extra(250,[(25,5),(10,1),(5,10),(1,23)])"
      ]
    },
    {
      "cell_type": "code",
      "execution_count": 65,
      "metadata": {},
      "outputs": [
        {
          "name": "stdout",
          "output_type": "stream",
          "text": [
            "         5 function calls in 0.000 seconds\n",
            "\n",
            "   Ordered by: call count\n",
            "\n",
            "   ncalls  tottime  percall  cumtime  percall filename:lineno(function)\n",
            "        1    0.000    0.000    0.000    0.000 1593940075.py:1(cambio_monedas_extra)\n",
            "        1    0.000    0.000    0.000    0.000 <string>:1(<module>)\n",
            "        1    0.000    0.000    0.000    0.000 {built-in method builtins.exec}\n",
            "        1    0.000    0.000    0.000    0.000 {built-in method builtins.len}\n",
            "        1    0.000    0.000    0.000    0.000 {method 'disable' of '_lsprof.Profiler' objects}\n",
            "\n",
            "\n"
          ]
        }
      ],
      "source": [
        "import cProfile\n",
        "\n",
        "cProfile.run(\"cambio_monedas_extra(15,[(25,5),(10,1),(5,10),(1,23)])\",sort='ncalls')"
      ]
    },
    {
      "cell_type": "markdown",
      "metadata": {
        "id": "g8M9GTvy_Fa3"
      },
      "source": [
        "## N-Reinas por técnica de vueta atrás\n"
      ]
    },
    {
      "cell_type": "code",
      "execution_count": 66,
      "metadata": {
        "id": "FqOPyCmv_K65"
      },
      "outputs": [
        {
          "name": "stdout",
          "output_type": "stream",
          "text": [
            "[1, 5, 8, 6, 3, 7, 2, 4]\n",
            "\n",
            "[1, 6, 8, 3, 7, 4, 2, 5]\n",
            "\n",
            "[1, 7, 4, 6, 8, 2, 5, 3]\n",
            "\n",
            "[1, 7, 5, 8, 2, 4, 6, 3]\n",
            "\n",
            "[2, 4, 6, 8, 3, 1, 7, 5]\n",
            "\n",
            "[2, 5, 7, 1, 3, 8, 6, 4]\n",
            "\n",
            "[2, 5, 7, 4, 1, 8, 6, 3]\n",
            "\n",
            "[2, 6, 1, 7, 4, 8, 3, 5]\n",
            "\n",
            "[2, 6, 8, 3, 1, 4, 7, 5]\n",
            "\n",
            "[2, 7, 3, 6, 8, 5, 1, 4]\n",
            "\n",
            "[2, 7, 5, 8, 1, 4, 6, 3]\n",
            "\n",
            "[2, 8, 6, 1, 3, 5, 7, 4]\n",
            "\n",
            "[3, 1, 7, 5, 8, 2, 4, 6]\n",
            "\n",
            "[3, 5, 2, 8, 1, 7, 4, 6]\n",
            "\n",
            "[3, 5, 2, 8, 6, 4, 7, 1]\n",
            "\n",
            "[3, 5, 7, 1, 4, 2, 8, 6]\n",
            "\n",
            "[3, 5, 8, 4, 1, 7, 2, 6]\n",
            "\n",
            "[3, 6, 2, 5, 8, 1, 7, 4]\n",
            "\n",
            "[3, 6, 2, 7, 1, 4, 8, 5]\n",
            "\n",
            "[3, 6, 2, 7, 5, 1, 8, 4]\n",
            "\n",
            "[3, 6, 4, 1, 8, 5, 7, 2]\n",
            "\n",
            "[3, 6, 4, 2, 8, 5, 7, 1]\n",
            "\n",
            "[3, 6, 8, 1, 4, 7, 5, 2]\n",
            "\n",
            "[3, 6, 8, 1, 5, 7, 2, 4]\n",
            "\n",
            "[3, 6, 8, 2, 4, 1, 7, 5]\n",
            "\n",
            "[3, 7, 2, 8, 5, 1, 4, 6]\n",
            "\n",
            "[3, 7, 2, 8, 6, 4, 1, 5]\n",
            "\n",
            "[3, 8, 4, 7, 1, 6, 2, 5]\n",
            "\n",
            "[4, 1, 5, 8, 2, 7, 3, 6]\n",
            "\n",
            "[4, 1, 5, 8, 6, 3, 7, 2]\n",
            "\n",
            "[4, 2, 5, 8, 6, 1, 3, 7]\n",
            "\n",
            "[4, 2, 7, 3, 6, 8, 1, 5]\n",
            "\n",
            "[4, 2, 7, 3, 6, 8, 5, 1]\n",
            "\n",
            "[4, 2, 7, 5, 1, 8, 6, 3]\n",
            "\n",
            "[4, 2, 8, 5, 7, 1, 3, 6]\n",
            "\n",
            "[4, 2, 8, 6, 1, 3, 5, 7]\n",
            "\n",
            "[4, 6, 1, 5, 2, 8, 3, 7]\n",
            "\n",
            "[4, 6, 8, 2, 7, 1, 3, 5]\n",
            "\n",
            "[4, 6, 8, 3, 1, 7, 5, 2]\n",
            "\n",
            "[4, 7, 1, 8, 5, 2, 6, 3]\n",
            "\n",
            "[4, 7, 3, 8, 2, 5, 1, 6]\n",
            "\n",
            "[4, 7, 5, 2, 6, 1, 3, 8]\n",
            "\n",
            "[4, 7, 5, 3, 1, 6, 8, 2]\n",
            "\n",
            "[4, 8, 1, 3, 6, 2, 7, 5]\n",
            "\n",
            "[4, 8, 1, 5, 7, 2, 6, 3]\n",
            "\n",
            "[4, 8, 5, 3, 1, 7, 2, 6]\n",
            "\n",
            "[5, 1, 4, 6, 8, 2, 7, 3]\n",
            "\n",
            "[5, 1, 8, 4, 2, 7, 3, 6]\n",
            "\n",
            "[5, 1, 8, 6, 3, 7, 2, 4]\n",
            "\n",
            "[5, 2, 4, 6, 8, 3, 1, 7]\n",
            "\n",
            "[5, 2, 4, 7, 3, 8, 6, 1]\n",
            "\n",
            "[5, 2, 6, 1, 7, 4, 8, 3]\n",
            "\n",
            "[5, 2, 8, 1, 4, 7, 3, 6]\n",
            "\n",
            "[5, 3, 1, 6, 8, 2, 4, 7]\n",
            "\n",
            "[5, 3, 1, 7, 2, 8, 6, 4]\n",
            "\n",
            "[5, 3, 8, 4, 7, 1, 6, 2]\n",
            "\n",
            "[5, 7, 1, 3, 8, 6, 4, 2]\n",
            "\n",
            "[5, 7, 1, 4, 2, 8, 6, 3]\n",
            "\n",
            "[5, 7, 2, 4, 8, 1, 3, 6]\n",
            "\n",
            "[5, 7, 2, 6, 3, 1, 4, 8]\n",
            "\n",
            "[5, 7, 2, 6, 3, 1, 8, 4]\n",
            "\n",
            "[5, 7, 4, 1, 3, 8, 6, 2]\n",
            "\n",
            "[5, 8, 4, 1, 3, 6, 2, 7]\n",
            "\n",
            "[5, 8, 4, 1, 7, 2, 6, 3]\n",
            "\n",
            "[6, 1, 5, 2, 8, 3, 7, 4]\n",
            "\n",
            "[6, 2, 7, 1, 3, 5, 8, 4]\n",
            "\n",
            "[6, 2, 7, 1, 4, 8, 5, 3]\n",
            "\n",
            "[6, 3, 1, 7, 5, 8, 2, 4]\n",
            "\n",
            "[6, 3, 1, 8, 4, 2, 7, 5]\n",
            "\n",
            "[6, 3, 1, 8, 5, 2, 4, 7]\n",
            "\n",
            "[6, 3, 5, 7, 1, 4, 2, 8]\n",
            "\n",
            "[6, 3, 5, 8, 1, 4, 2, 7]\n",
            "\n",
            "[6, 3, 7, 2, 4, 8, 1, 5]\n",
            "\n",
            "[6, 3, 7, 2, 8, 5, 1, 4]\n",
            "\n",
            "[6, 3, 7, 4, 1, 8, 2, 5]\n",
            "\n",
            "[6, 4, 1, 5, 8, 2, 7, 3]\n",
            "\n",
            "[6, 4, 2, 8, 5, 7, 1, 3]\n",
            "\n",
            "[6, 4, 7, 1, 3, 5, 2, 8]\n",
            "\n",
            "[6, 4, 7, 1, 8, 2, 5, 3]\n",
            "\n",
            "[6, 8, 2, 4, 1, 7, 5, 3]\n",
            "\n",
            "[7, 1, 3, 8, 6, 4, 2, 5]\n",
            "\n",
            "[7, 2, 4, 1, 8, 5, 3, 6]\n",
            "\n",
            "[7, 2, 6, 3, 1, 4, 8, 5]\n",
            "\n",
            "[7, 3, 1, 6, 8, 5, 2, 4]\n",
            "\n",
            "[7, 3, 8, 2, 5, 1, 6, 4]\n",
            "\n",
            "[7, 4, 2, 5, 8, 1, 3, 6]\n",
            "\n",
            "[7, 4, 2, 8, 6, 1, 3, 5]\n",
            "\n",
            "[7, 5, 3, 1, 6, 8, 2, 4]\n",
            "\n",
            "[8, 2, 4, 1, 7, 5, 3, 6]\n",
            "\n",
            "[8, 2, 5, 3, 1, 7, 4, 6]\n",
            "\n",
            "[8, 3, 1, 6, 2, 5, 7, 4]\n",
            "\n",
            "[8, 4, 1, 3, 6, 2, 7, 5]\n",
            "\n"
          ]
        }
      ],
      "source": [
        "def escribe(S):\n",
        "  n = len(S)\n",
        "  for x in range(n):\n",
        "    print(\"\")\n",
        "    for i in range(n):\n",
        "      if S[i] == x+1:\n",
        "        print(\" X \" , end=\"\")\n",
        "      else:\n",
        "        print(\" - \", end=\"\")\n",
        "\n",
        "\n",
        "def es_prometedora(SOLUCION,etapa):\n",
        "  #print(SOLUCION)\n",
        "  #Si la solución tiene dos valores iguales no es valida => Dos reinas en la misma fila\n",
        "  for i in range(etapa+1):\n",
        "    #print(\"El valor \" + str(SOLUCION[i]) + \" está \" +  str(SOLUCION.count(SOLUCION[i])) + \" veces\")\n",
        "    if SOLUCION.count(SOLUCION[i]) > 1:\n",
        "      return False\n",
        "\n",
        "    #Verifica las diagonales\n",
        "    for j in range(i+1, etapa +1 ):\n",
        "      #print(\"Comprobando diagonal de \" + str(i) + \" y \" + str(j))\n",
        "      if abs(i-j) == abs(SOLUCION[i]-SOLUCION[j]) : return False\n",
        "  return True\n",
        "\n",
        "\n",
        "\n",
        "def reinas(N, solucion=[], etapa=0):\n",
        "  if len(solucion) == 0:\n",
        "      solucion=[0 for i in range(N)]\n",
        "\n",
        "  for i in range(1, N+1):\n",
        "    solucion[etapa] = i\n",
        "\n",
        "    if es_prometedora(solucion, etapa):\n",
        "      if etapa == N-1:\n",
        "        print(solucion)\n",
        "        #escribe(solucion)\n",
        "        print()\n",
        "      else:\n",
        "        reinas(N, solucion, etapa+1)\n",
        "    else:\n",
        "      None\n",
        "\n",
        "    solucion[etapa] = 0\n",
        "\n",
        "reinas(8)"
      ]
    },
    {
      "cell_type": "markdown",
      "metadata": {
        "id": "p1VZhNzjUfiy"
      },
      "source": [
        "## Viaje por el rio. Programación dinámica"
      ]
    },
    {
      "cell_type": "code",
      "execution_count": 67,
      "metadata": {
        "colab": {
          "base_uri": "https://localhost:8080/",
          "height": 351
        },
        "id": "qoqU1XciUdRn",
        "outputId": "541c88e8-e686-4c32-c7e6-812759702496"
      },
      "outputs": [
        {
          "name": "stdout",
          "output_type": "stream",
          "text": [
            "PRECIOS\n",
            "[0, 5, 4, 3, 8, 8, 11]\n",
            "[9999, 0, 999, 2, 3, 8, 7]\n",
            "[9999, 9999, 0, 1, 6, 4, 7]\n",
            "[9999, 9999, 9999, 0, 5, 6, 9]\n",
            "[9999, 9999, 9999, 9999, 0, 999, 4]\n",
            "[9999, 9999, 9999, 9999, 9999, 0, 3]\n",
            "[9999, 9999, 9999, 9999, 9999, 9999, 9999]\n",
            "\n",
            "RUTA\n",
            "[0, 0, 0, 0, 1, 2, 5]\n",
            "['', 1, 1, 1, 1, 3, 4]\n",
            "['', '', 2, 2, 3, 2, 5]\n",
            "['', '', '', 3, 3, 3, 3]\n",
            "['', '', '', '', 4, 4, 4]\n",
            "['', '', '', '', '', 5, 5]\n",
            "['', '', '', '', '', '', '']\n",
            "\n",
            "La ruta es:\n"
          ]
        },
        {
          "data": {
            "text/plain": [
              "',0,2,5'"
            ]
          },
          "execution_count": 67,
          "metadata": {},
          "output_type": "execute_result"
        }
      ],
      "source": [
        "TARIFAS = [\n",
        "[0,5,4,3,999,999,999],\n",
        "[999,0,999,2,3,999,11],\n",
        "[999,999, 0,1,999,4,10],\n",
        "[999,999,999, 0,5,6,9],\n",
        "[999,999, 999,999,0,999,4],\n",
        "[999,999, 999,999,999,0,3],\n",
        "[999,999,999,999,999,999,0]\n",
        "]\n",
        "\n",
        "\n",
        "\n",
        "################################################################\n",
        "def Precios(TARIFAS):\n",
        "################################################################\n",
        "  #Total de Nodos\n",
        "  N = len(TARIFAS[0])\n",
        "\n",
        "  #Inicialización de la tabla de precios\n",
        "  PRECIOS = [ [9999]*N for i in [9999]*N]\n",
        "  RUTA = [ [\"\"]*N for i in [\"\"]*N]\n",
        "\n",
        "  for i in range(0,N-1):\n",
        "    RUTA[i][i] = i             #Para ir de i a i se \"pasa por i\"\n",
        "    PRECIOS[i][i] = 0          #Para ir de i a i se se paga 0\n",
        "    for j in range(i+1, N):\n",
        "      MIN = TARIFAS[i][j]\n",
        "      RUTA[i][j] = i\n",
        "\n",
        "      for k in range(i, j):\n",
        "        if PRECIOS[i][k] + TARIFAS[k][j] < MIN:\n",
        "            MIN = min(MIN, PRECIOS[i][k] + TARIFAS[k][j] )\n",
        "            RUTA[i][j] = k          #Anota que para ir de i a j hay que pasar por k\n",
        "        PRECIOS[i][j] = MIN\n",
        "\n",
        "  return PRECIOS,RUTA\n",
        "################################################################\n",
        "\n",
        "\n",
        "PRECIOS,RUTA = Precios(TARIFAS)\n",
        "#print(PRECIOS[0][6])\n",
        "\n",
        "print(\"PRECIOS\")\n",
        "for i in range(len(TARIFAS)):\n",
        "  print(PRECIOS[i])\n",
        "\n",
        "print(\"\\nRUTA\")\n",
        "for i in range(len(TARIFAS)):\n",
        "  print(RUTA[i])\n",
        "\n",
        "#Determinar la ruta con Recursividad\n",
        "def calcular_ruta(RUTA, desde, hasta):\n",
        "  if desde == hasta:\n",
        "    #print(\"Ir a :\" + str(desde))\n",
        "    return \"\"\n",
        "  else:\n",
        "    return str(calcular_ruta( RUTA, desde, RUTA[desde][hasta])) +  \\\n",
        "                ',' + \\\n",
        "                str(RUTA[desde][hasta] \\\n",
        "              )\n",
        "\n",
        "print(\"\\nLa ruta es:\")\n",
        "calcular_ruta(RUTA, 0,6)"
      ]
    },
    {
      "cell_type": "code",
      "execution_count": null,
      "metadata": {},
      "outputs": [],
      "source": []
    }
  ],
  "metadata": {
    "colab": {
      "provenance": []
    },
    "kernelspec": {
      "display_name": "Python 3",
      "name": "python3"
    },
    "language_info": {
      "codemirror_mode": {
        "name": "ipython",
        "version": 3
      },
      "file_extension": ".py",
      "mimetype": "text/x-python",
      "name": "python",
      "nbconvert_exporter": "python",
      "pygments_lexer": "ipython3",
      "version": "3.13.3"
    }
  },
  "nbformat": 4,
  "nbformat_minor": 0
}
